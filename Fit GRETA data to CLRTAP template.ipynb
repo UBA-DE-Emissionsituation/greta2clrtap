{
 "cells": [
  {
   "cell_type": "code",
   "execution_count": null,
   "metadata": {},
   "outputs": [],
   "source": [
    "import csv\n",
    "import pandas"
   ]
  },
  {
   "cell_type": "code",
   "execution_count": null,
   "metadata": {},
   "outputs": [],
   "source": [
    "years = [1990, 1995, 2000, 2005, 2010, 2015, 2019]\n",
    "gnfrs = {\"GNFR_A\": \"A_PublicPower\", \"GNFR_B\": \"B_Industry\", \"GNFR_C\": \"C_OtherStationaryComb\",\n",
    "        \"GNFR_D\": \"D_Fugitive\", \"GNFR_E\": \"E_Solvents\", \"GNFR_F\": \"F_RoadTransport\",\n",
    "        \"GNFR_G\": \"G_Shipping\", \"GNFR_H\": \"H_Aviation\", \"GNFR_I\": \"I_Offroad\",\n",
    "        \"GNFR_J\": \"J_Waste\", \"GNFR_K\": \"K_AgriLivestock\", \"GNFR_L\": \"L_AgriOther\",\n",
    "        \"GNFR_M\": \"M_Other\", \"GNFR_N\": \"N_Natural\", \"GNFR_O\": \"O_AviCruise\",\n",
    "        \"GNFR_P\": \"P_IntShipping\", \"GNFR_Z\": \"z_Memo\"}\n",
    "\n",
    "pollutants = (\"NOX\", \"NMVOC\", \"SO2\", \"NH3\", \"PM2_5\", \"PM10\", \"BC\", \"CO\", \"PB\", \"CD\", \"HG\", \"PCDD_F\", \"PAHtotal\", \"HCB\", \"PCB\")"
   ]
  },
  {
   "cell_type": "code",
   "execution_count": null,
   "metadata": {},
   "outputs": [],
   "source": [
    "for year in years:\n",
    "    # Read and merge input files\n",
    "    main = pandas.read_csv(f\"data/{year}_Sub2021_GNFR.csv\", sep=';', index_col=0)\n",
    "    try:\n",
    "        pops = pandas.read_csv(f\"data/{year}_POPs_Sub2021_GNFR.csv\", sep=';', index_col=0)\n",
    "        greta = main.merge(pops)\n",
    "    except FileNotFoundError as _:\n",
    "        greta = main\n",
    "    \n",
    "    # Copy data over, one GNFR at a time\n",
    "    data = pandas.DataFrame()\n",
    "    for gnfr_key, gnfr_name in gnfrs.items():\n",
    "        gnfr_data = greta[[\"LON\", \"LAT\"]].copy().assign(GNFR=gnfr_name)\n",
    "\n",
    "        for pollutant in pollutants:\n",
    "            if f\"E_{gnfr_key}_{pollutant}\" in greta.columns:\n",
    "                gnfr_data[pollutant] = greta[[f'E_{gnfr_key}_{pollutant}']].copy()\n",
    "            elif year < 1995 and pollutant in (\"PM2_5\", \"PM10\"):\n",
    "                gnfr_data[pollutant] = \"NR\"\n",
    "            elif year < 2000 and pollutant in (\"BC\"):\n",
    "                gnfr_data[pollutant] = \"NR\"\n",
    "            else:\n",
    "                gnfr_data[pollutant] = \"NE\" if gnfr_key in (\"GNFR_M\", \"GNFR_N\", \"GNFR_O\", \"GNFR_P\", \"GNFR_Z\") else \"NA\"\n",
    "\n",
    "        data = data.append(gnfr_data, ignore_index=True)\n",
    "\n",
    "    # Write out the result\n",
    "    data.to_csv(f\"output/{year}.csv\", index=False, sep=';')"
   ]
  },
  {
   "cell_type": "code",
   "execution_count": null,
   "metadata": {},
   "outputs": [],
   "source": [
    "for year in years:\n",
    "    data = pandas.read_csv(f\"output/{year}.csv\", sep=';', decimal=',', na_values=('NE', 'NA', 'NR'))\n",
    "    main = pandas.read_csv(f\"data/{year}_Sub2021_GNFR.csv\", sep=';', decimal=',', index_col=0)\n",
    "    try:\n",
    "        pops = pandas.read_csv(f\"data/{year}_POPs_Sub2021_GNFR.csv\", sep=';', decimal=',', index_col=0)\n",
    "        greta = main.merge(pops)\n",
    "    except FileNotFoundError as _:\n",
    "        greta = main\n",
    "        \n",
    "    # Cross check results\n",
    "    print(year)\n",
    "    for pollutant in pollutants:\n",
    "        try:\n",
    "            sum_data, sum_greta = data[pollutant].sum(), greta[f\"E_SUM_{pollutant}\"].sum()\n",
    "            if abs(sum_data - sum_greta) > 10**-10:\n",
    "                print(f\"Total check {pollutant}: {sum_data:.6} vs. {sum_greta:.6} results in difference of {sum_data - sum_greta:.2}\")\n",
    "            else:\n",
    "                print(f\"Total check {pollutant}: {sum_data:.6} vs. {sum_greta:.6} results no difference\")\n",
    "        except KeyError as _:\n",
    "            pass"
   ]
  }
 ],
 "metadata": {
  "kernelspec": {
   "display_name": "Python 3",
   "language": "python",
   "name": "python3"
  },
  "language_info": {
   "codemirror_mode": {
    "name": "ipython",
    "version": 3
   },
   "file_extension": ".py",
   "mimetype": "text/x-python",
   "name": "python",
   "nbconvert_exporter": "python",
   "pygments_lexer": "ipython3",
   "version": "3.8.5"
  }
 },
 "nbformat": 4,
 "nbformat_minor": 4
}
